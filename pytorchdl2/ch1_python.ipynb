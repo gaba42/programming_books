{
 "cells": [
  {
   "attachments": {},
   "cell_type": "markdown",
   "metadata": {},
   "source": [
    "# 1장\n",
    "- 변수 = 별도의 장소에 있는 실체를 가리키는 포인터\n",
    "    - 물건에 부탁되어 있는 태그\n",
    "- 딥러닝에서의 예측 알고리즘 = **막대한 파라미터를 가진 복잡한 합성 함수**\n",
    "- 합성 함수\n",
    "    - f1의 출력인 x1이 그대로 다음 함수 f2의 입력값이 되고, f2의 출력 x2도 그대로 f3으로 입력된다.\n",
    "\n",
    "수학적인 관점에서 딥러닝 알고리즘은 합성 함수와 미분으로 이뤄졌다.\n",
    "\n",
    "- 딥러닝 학습 알고리즘은 **손실**의 계산 결과를 이용해 최적의 파라미터 값을 구한다.\n",
    "\n",
    "## 객체 지향의 기초 개념\n",
    "- 객체와 오브젝트는 동의어다.\n",
    "- **클래스**와 **인스턴스**\n",
    "- 클래스 = '틀'\n",
    "    - 클래스 안의 변수 = 속성\n",
    "- 인스턴스 = 클래스(틀)로부터 생성된 개별적 실체\n",
    "    - 속성으로 불리는 클래스 안의 변숫값은, 인스턴스마다 다르다.\n",
    "- 함수 = 메서드(method)\n",
    "  - 처리 기능"
   ]
  },
  {
   "cell_type": "code",
   "execution_count": 3,
   "metadata": {},
   "outputs": [],
   "source": [
    "# 그래프 출력을 위한 라이브러리\n",
    "import matplotlib.pyplot as plt\n",
    "# 원을 그리는 데 필요한 라이브러리\n",
    "import matplotlib.patches as patches\n",
    "\n",
    "# Point 클래스 정의\n",
    "class Point:\n",
    "    # 인스턴스 생성 시에 두 개의 인수 x와 y를 가짐\n",
    "    def __init__(self, x, y):\n",
    "        # 인스턴스 속성 x에 첫 번째 인수를 할당\n",
    "        self.x = x\n",
    "        # 인스턴스 속성 y에 두 번째 인수를 할당\n",
    "        self.y = y\n",
    "    \n",
    "    # draw 함수 정의(인수 없음)\n",
    "    def draw(self):\n",
    "        # (x, y)에 점을 그림\n",
    "        plt.plot(self.x, self.y, marker='o', markersize=10, c='k')"
   ]
  },
  {
   "attachments": {},
   "cell_type": "markdown",
   "metadata": {},
   "source": [
    "- \\__init\\__ 함수: 초기화 처리를 위해 반드시 호출되는 함수\n",
    "    - \\__init\\__ 함수의 첫 번째 인수, self 변수: 클래스로부터 인스턴스를 생성 할 때, 인스턴스 자신을 가리킨다.\n",
    "    - self.x = x: 인스턴스의 속성 x(=self.x)에 \\__init\\__ 함수의 파라미터로 값 x를 대입한다는 의미다."
   ]
  },
  {
   "attachments": {},
   "cell_type": "markdown",
   "metadata": {},
   "source": [
    "#### 인스턴스 생성하기"
   ]
  },
  {
   "cell_type": "code",
   "execution_count": 4,
   "metadata": {},
   "outputs": [],
   "source": [
    "p1 = Point(2, 3)\n",
    "p2 = Point(-1, -2)"
   ]
  },
  {
   "attachments": {},
   "cell_type": "markdown",
   "metadata": {},
   "source": [
    "##### 인스턴스 속성으로 접근"
   ]
  },
  {
   "cell_type": "code",
   "execution_count": 5,
   "metadata": {},
   "outputs": [
    {
     "name": "stdout",
     "output_type": "stream",
     "text": [
      "2 3\n",
      "-1 -2\n"
     ]
    }
   ],
   "source": [
    "# p1과 p2의 속성 x, y\n",
    "print(p1.x, p1.y)\n",
    "print(p2.x, p2.y)"
   ]
  },
  {
   "attachments": {},
   "cell_type": "markdown",
   "metadata": {},
   "source": [
    "## 클래스의 상속\n",
    "- Circle 클래스에 반경을 의미하는 속성 r을 추가해보자.\n",
    "  - Point 클래스의 자식 클래스"
   ]
  },
  {
   "cell_type": "code",
   "execution_count": 6,
   "metadata": {},
   "outputs": [],
   "source": [
    "class Circle1(Point):\n",
    "    def __init__(self, x, y, r):\n",
    "        # x와 y는 부모 클래스의 속성으로 설정\n",
    "        super().__init__(x, y)\n",
    "        # r은 Circle의 속성으로 설정\n",
    "        self.r = r"
   ]
  },
  {
   "attachments": {},
   "cell_type": "markdown",
   "metadata": {},
   "source": [
    "- 다른 클래스의 이름이 인수가 된다 => 클래스의 상속을 의미\n",
    "  - **Circle1 클래스가 Point 클래스의 자식 클래스로 정의된다**\n",
    "  - super().\\__init\\__(x, y): Point 클래스의 \\__init__ 함수 호출\n",
    "    - 자식 클래스만 가지고 있는 "
   ]
  },
  {
   "attachments": {},
   "cell_type": "markdown",
   "metadata": {},
   "source": [
    "### 오버라이드"
   ]
  },
  {
   "cell_type": "code",
   "execution_count": 8,
   "metadata": {},
   "outputs": [],
   "source": [
    "class Circle2(Point):\n",
    "    def __init__(self, x, y, r):\n",
    "        super().__init__(x, y)\n",
    "        self.r = r\n",
    "    \n",
    "    # 원을 그리는 함수로 재정의(Circle2 클래스에서만)\n",
    "    def draw(self):\n",
    "        c = patches.Circle(xy=(self.x, self.y), radius=self.r, fc='b', ec='k')\n",
    "        ax.add_patch(c)"
   ]
  },
  {
   "attachments": {},
   "cell_type": "markdown",
   "metadata": {},
   "source": [
    "- 부모 클래스와(Point) 같은 이름의 함수(draw)를 자식 클래스(Circle2)에서 역할을 달리 정의하는 것을 **오버라이드**라고 부른다."
   ]
  },
  {
   "attachments": {},
   "cell_type": "markdown",
   "metadata": {},
   "source": [
    "### 부모 클래스의 메서드 호출"
   ]
  },
  {
   "cell_type": "code",
   "execution_count": 9,
   "metadata": {},
   "outputs": [],
   "source": [
    "class Circle3(Point):\n",
    "    def __init__(self, x, y, r):\n",
    "        super().__init__(x, y)\n",
    "        self.r = r\n",
    "    # Circle의 draw 함수는 부모의 함수를 호출한 다음, 원 그리기를 독자적으로 수행함\n",
    "    def draw(self):\n",
    "        # 부모 클래스의 draw 함수 호출\n",
    "        super().draw()\n",
    "        \n",
    "        # 원 그리기\n",
    "        c = patches.Circle(xy=(self.x, self.y), radius=self.r, fc='b', ec='k')\n",
    "        ax.add_patch(c)"
   ]
  },
  {
   "cell_type": "code",
   "execution_count": 10,
   "metadata": {},
   "outputs": [
    {
     "data": {
      "image/png": "[encoded data removed]",
      "text/plain": [
       "<Figure size 640x480 with 1 Axes>"
      ]
     },
     "metadata": {},
     "output_type": "display_data"
    }
   ],
   "source": [
    "# Circle3 클래스로부터 인스턴스 변수 c3 생성\n",
    "c3 = Circle3(1, 0, 2)\n",
    "\n",
    "# p1, p2, c3의 각 draw 함수 호출\n",
    "ax = plt.subplot()\n",
    "p1.draw()\n",
    "p2.draw()\n",
    "c3.draw()\n",
    "plt.xlim(-4, 4)\n",
    "plt.ylim(-4, 4)\n",
    "plt.show()\n"
   ]
  },
  {
   "attachments": {},
   "cell_type": "markdown",
   "metadata": {},
   "source": [
    "- 원의 중심에 해당하는 좌표(1,0)에 점이 표시되고, 원도 함께 그려진다."
   ]
  },
  {
   "attachments": {},
   "cell_type": "markdown",
   "metadata": {},
   "source": [
    "## 인스턴스를 함수로 사용하는 방법\n",
    "- **클래스에서 생성한 인스턴스를 호출 가능한 함수로 만드는 방법**\n",
    "- 클래스 정의 안에서 \\__call\\__ 함수 정의"
   ]
  },
  {
   "cell_type": "code",
   "execution_count": 13,
   "metadata": {},
   "outputs": [
    {
     "name": "stdout",
     "output_type": "stream",
     "text": [
      "[-2.   -1.75 -1.5  -1.25 -1.   -0.75 -0.5  -0.25  0.    0.25  0.5   0.75\n",
      "  1.    1.25  1.5   1.75  2.  ]\n",
      "[10.     8.125  6.5    5.125  4.     3.125  2.5    2.125  2.     2.125\n",
      "  2.5    3.125  4.     5.125  6.5    8.125 10.   ]\n"
     ]
    }
   ],
   "source": [
    "import numpy as np\n",
    "# 호출 가능한 클래스 H의 정의와 인스턴스 생성\n",
    "class H:\n",
    "    def __call__(self, x):\n",
    "        return 2*x**2 + 2\n",
    "\n",
    "#### h가 함수로 동작하는지 확인\n",
    "\n",
    "# np 배열 x 정의\n",
    "x = np.arange(-2, 2.1, 0.25)\n",
    "print(x)\n",
    "\n",
    "# H 클래스의 인스턴스로 h를 생성\n",
    "h = H()\n",
    "\n",
    "# 함수 h 호출\n",
    "y = h(x)\n",
    "print(y)"
   ]
  },
  {
   "cell_type": "code",
   "execution_count": 14,
   "metadata": {},
   "outputs": [
    {
     "data": {
      "image/png": "[encoded data removed]",
      "text/plain": [
       "<Figure size 640x480 with 1 Axes>"
      ]
     },
     "metadata": {},
     "output_type": "display_data"
    }
   ],
   "source": [
    "# 그래프 출력\n",
    "plt.plot(x, y)\n",
    "plt.show()"
   ]
  },
  {
   "attachments": {},
   "cell_type": "markdown",
   "metadata": {},
   "source": [
    "**클래스로 생성한 인스턴스를 함수로 사용하는** 테크닉은 파이토치의 여러 부분에서 자주 등장하므로, 파이토치를 제대로 다루기 위한 <u>필수 지식</u> 중 하나다."
   ]
  },
  {
   "cell_type": "code",
   "execution_count": null,
   "metadata": {},
   "outputs": [],
   "source": []
  }
 ],
 "metadata": {
  "kernelspec": {
   "display_name": "study310",
   "language": "python",
   "name": "python3"
  },
  "language_info": {
   "codemirror_mode": {
    "name": "ipython",
    "version": 3
   },
   "file_extension": ".py",
   "mimetype": "text/x-python",
   "name": "python",
   "nbconvert_exporter": "python",
   "pygments_lexer": "ipython3",
   "version": "3.10.13"
  },
  "orig_nbformat": 4,
  "vscode": {
   "interpreter": {
    "hash": "579926a24c88a76d7efad83141d73286326a98a54c3d7eb65b493737270d5bfa"
   }
  }
 },
 "nbformat": 4,
 "nbformat_minor": 2
}
